{
 "cells": [
  {
   "cell_type": "code",
   "execution_count": 1,
   "id": "13252f24-7467-4c5a-93e2-0868478d7fde",
   "metadata": {},
   "outputs": [
    {
     "name": "stdout",
     "output_type": "stream",
     "text": [
      "Requirement already satisfied: imageio in c:\\users\\user\\anaconda3\\lib\\site-packages (2.26.0)\n",
      "Requirement already satisfied: numpy in c:\\users\\user\\anaconda3\\lib\\site-packages (from imageio) (2.0.2)\n",
      "Requirement already satisfied: pillow>=8.3.2 in c:\\users\\user\\anaconda3\\lib\\site-packages (from imageio) (10.3.0)\n",
      "Note: you may need to restart the kernel to use updated packages.\n"
     ]
    }
   ],
   "source": [
    "pip install imageio"
   ]
  },
  {
   "cell_type": "code",
   "execution_count": 2,
   "id": "3c0b3729-dde8-4db6-bba6-a394db47b05c",
   "metadata": {},
   "outputs": [],
   "source": [
    "import imageio.v3 as iio"
   ]
  },
  {
   "cell_type": "code",
   "execution_count": 3,
   "id": "c8bb42b2-76c4-4518-a2f5-f9118323fea7",
   "metadata": {},
   "outputs": [],
   "source": [
    " #lenames is a list that contains the locations of the image files.Also need to create an empty list that will be used to store the actual image data from these files\n",
    "filenames = ['team-pic1.png', 'team-pic2.png']\n",
    "images = [ ]"
   ]
  },
  {
   "cell_type": "code",
   "execution_count": 4,
   "id": "bda0407e-42ff-44cf-8c48-728a8a90bb47",
   "metadata": {},
   "outputs": [],
   "source": [
    "for filename in filenames:\n",
    "  images.append(iio.imread(filename))"
   ]
  },
  {
   "cell_type": "code",
   "execution_count": 5,
   "id": "ad6a57b7-f8a1-40e1-bd80-7019f9bf3a9b",
   "metadata": {},
   "outputs": [],
   "source": [
    "iio.imwrite('team.gif', images, duration = 500, loop = 0)"
   ]
  }
 ],
 "metadata": {
  "kernelspec": {
   "display_name": "Python 3 (ipykernel)",
   "language": "python",
   "name": "python3"
  },
  "language_info": {
   "codemirror_mode": {
    "name": "ipython",
    "version": 3
   },
   "file_extension": ".py",
   "mimetype": "text/x-python",
   "name": "python",
   "nbconvert_exporter": "python",
   "pygments_lexer": "ipython3",
   "version": "3.11.4"
  }
 },
 "nbformat": 4,
 "nbformat_minor": 5
}
