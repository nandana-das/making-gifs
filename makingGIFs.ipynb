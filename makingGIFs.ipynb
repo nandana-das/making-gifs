{
 "cells": [
  {
   "cell_type": "code",
   "execution_count": null,
   "id": "13252f24-7467-4c5a-93e2-0868478d7fde",
   "metadata": {},
   "outputs": [],
   "source": [
    "pip install imageio"
   ]
  },
  {
   "cell_type": "code",
   "execution_count": null,
   "id": "4d1a3262-d1d2-42d5-9a2a-2a92e2bcf057",
   "metadata": {},
   "outputs": [],
   "source": [
    "import imageio.v3 as iio\n",
    "from PIL import Image, ImageOps\n",
    "import numpy as np"
   ]
  },
  {
   "cell_type": "code",
   "execution_count": null,
   "id": "9e9d5561-2e00-4fb1-bced-c6f528594698",
   "metadata": {},
   "outputs": [],
   "source": [
    "filenames = ['osc-pic1.jpg', 'osc-pic2.jpg','osc-pic3.jpg','osc-pic4.jpg','osc-pic5.jpg','osc-pic6.jpg','osc-pic7.jpg','osc-pic8.jpg','osc-pic9.jpg','osc-pic10.jpg','osc-pic11.jpg','osc-pic12.jpg','osc-pic13.jpg','osc-pic14.jpg','osc-pic15.jpg']\n",
    "images = []"
   ]
  },
  {
   "cell_type": "code",
   "execution_count": null,
   "id": "c8cdbb92-3a34-4cbf-83ce-281b1efe4544",
   "metadata": {},
   "outputs": [],
   "source": [
    "# Set the target size for your screen, e.g., 800x600 pixels\n",
    "target_size = (800, 600)"
   ]
  },
  {
   "cell_type": "code",
   "execution_count": null,
   "id": "c04a6911-81df-4525-95c0-829a9813beb8",
   "metadata": {},
   "outputs": [],
   "source": [
    "for filename in filenames:\n",
    "    with Image.open(filename) as img:\n",
    "        img = img.convert('RGBA')\n",
    "        # Resize while keeping aspect ratio, then pad to target size\n",
    "        img.thumbnail(target_size, Image.LANCZOS)\n",
    "        # Create a new image with the target size and transparent background\n",
    "        new_img = Image.new('RGBA', target_size, (0, 0, 0, 0))\n",
    "        # Paste the resized image onto the center of the new blank image\n",
    "        new_img.paste(img, ((target_size[0] - img.width) // 2,\n",
    "                            (target_size[1] - img.height) // 2))\n",
    "        images.append(np.array(new_img))"
   ]
  },
  {
   "cell_type": "code",
   "execution_count": null,
   "id": "509afd12-3d96-4e0e-9e98-8fc289e29880",
   "metadata": {},
   "outputs": [],
   "source": [
    "iio.imwrite('osc.gif', images, duration=100, loop=0)"
   ]
  }
 ],
 "metadata": {
  "kernelspec": {
   "display_name": "Python 3 (ipykernel)",
   "language": "python",
   "name": "python3"
  },
  "language_info": {
   "codemirror_mode": {
    "name": "ipython",
    "version": 3
   },
   "file_extension": ".py",
   "mimetype": "text/x-python",
   "name": "python",
   "nbconvert_exporter": "python",
   "pygments_lexer": "ipython3",
   "version": "3.11.4"
  }
 },
 "nbformat": 4,
 "nbformat_minor": 5
}
