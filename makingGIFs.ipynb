{
 "cells": [
  {
   "cell_type": "code",
   "execution_count": 2,
   "id": "13252f24-7467-4c5a-93e2-0868478d7fde",
   "metadata": {},
   "outputs": [
    {
     "name": "stdout",
     "output_type": "stream",
     "text": [
      "Requirement already satisfied: imageio in c:\\users\\user\\anaconda3\\lib\\site-packages (2.26.0)\n",
      "Requirement already satisfied: numpy in c:\\users\\user\\anaconda3\\lib\\site-packages (from imageio) (2.0.2)\n",
      "Requirement already satisfied: pillow>=8.3.2 in c:\\users\\user\\anaconda3\\lib\\site-packages (from imageio) (10.3.0)\n",
      "Note: you may need to restart the kernel to use updated packages.\n"
     ]
    }
   ],
   "source": [
    "pip install imageio"
   ]
  },
  {
   "cell_type": "code",
   "execution_count": 18,
   "id": "3c0b3729-dde8-4db6-bba6-a394db47b05c",
   "metadata": {},
   "outputs": [],
   "source": [
    "import imageio.v3 as iio\n",
    "from PIL import Image, ImageOps\n",
    "import numpy as np\n",
    "\n",
    "filenames = ['team-pic1.jpg', 'team-pic2.jpg']\n",
    "images = []\n",
    "\n",
    "# Set the target size for your screen, e.g., 800x600 pixels\n",
    "target_size = (800, 600)\n",
    "\n",
    "for filename in filenames:\n",
    "    with Image.open(filename) as img:\n",
    "        img = img.convert('RGBA')\n",
    "        # Resize while keeping aspect ratio, then pad to target size\n",
    "        img.thumbnail(target_size, Image.LANCZOS)\n",
    "        # Create a new image with the target size and transparent background\n",
    "        new_img = Image.new('RGBA', target_size, (0, 0, 0, 0))\n",
    "        # Paste the resized image onto the center of the new blank image\n",
    "        new_img.paste(img, ((target_size[0] - img.width) // 2,\n",
    "                            (target_size[1] - img.height) // 2))\n",
    "        images.append(np.array(new_img))\n",
    "\n",
    "iio.imwrite('team.gif', images, duration=500, loop=0)\n"
   ]
  },
  {
   "cell_type": "code",
   "execution_count": null,
   "id": "ac1dcdfd-ebaf-41a1-b3a9-757b8f930680",
   "metadata": {},
   "outputs": [],
   "source": []
  }
 ],
 "metadata": {
  "kernelspec": {
   "display_name": "Python 3 (ipykernel)",
   "language": "python",
   "name": "python3"
  },
  "language_info": {
   "codemirror_mode": {
    "name": "ipython",
    "version": 3
   },
   "file_extension": ".py",
   "mimetype": "text/x-python",
   "name": "python",
   "nbconvert_exporter": "python",
   "pygments_lexer": "ipython3",
   "version": "3.11.4"
  }
 },
 "nbformat": 4,
 "nbformat_minor": 5
}
